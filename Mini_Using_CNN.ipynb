{
  "nbformat": 4,
  "nbformat_minor": 0,
  "metadata": {
    "kernelspec": {
      "language": "python",
      "display_name": "Python 3",
      "name": "python3"
    },
    "language_info": {
      "name": "python",
      "version": "3.7.10",
      "mimetype": "text/x-python",
      "codemirror_mode": {
        "name": "ipython",
        "version": 3
      },
      "pygments_lexer": "ipython3",
      "nbconvert_exporter": "python",
      "file_extension": ".py"
    },
    "colab": {
      "provenance": [],
      "collapsed_sections": []
    },
    "accelerator": "GPU"
  },
  "cells": [
    {
      "cell_type": "markdown",
      "metadata": {
        "id": "MFZY_20cD7nV"
      },
      "source": [
        "# Importing necessary libraires"
      ]
    },
    {
      "cell_type": "code",
      "metadata": {
        "_uuid": "abb7e3c30b8a412a50c6b451c49939e3cf4bc11b",
        "scrolled": true,
        "execution": {
          "iopub.status.busy": "2021-09-30T19:34:39.342715Z",
          "iopub.execute_input": "2021-09-30T19:34:39.343017Z",
          "iopub.status.idle": "2021-09-30T19:34:49.336440Z",
          "shell.execute_reply.started": "2021-09-30T19:34:39.342940Z",
          "shell.execute_reply": "2021-09-30T19:34:49.335714Z"
        },
        "trusted": true,
        "id": "OP-hoLaIcv-K"
      },
      "source": [
        "import random\n",
        "import time\n",
        "import pandas as pd\n",
        "import numpy as np\n",
        "import re\n",
        "import torch\n",
        "import string\n",
        "\n",
        "from torchsummary import summary\n",
        "import torch.nn as nn\n",
        "import torch.optim as optim\n",
        "import torch.nn.functional as F\n",
        "from torch.utils.data import Dataset, DataLoader\n",
        "from torch.nn.utils.rnn import pack_padded_sequence, pad_packed_sequence\n",
        "from tensorflow.python.keras.preprocessing import text, sequence\n",
        "from tensorflow.python.keras.models import Sequential\n",
        "from sklearn.metrics import accuracy_score\n",
        "from sklearn.metrics import precision_score\n",
        "from sklearn.metrics import recall_score\n",
        "from sklearn.metrics import f1_score\n",
        "\n",
        "from tensorflow. keras.preprocessing.text import Tokenizer\n",
        "from tensorflow.keras.preprocessing.sequence import pad_sequences\n",
        "from sklearn.metrics import confusion_matrix, classification_report\n",
        "from torch.optim.optimizer import Optimizer\n",
        "\n",
        "import matplotlib.pyplot as plt\n",
        "from sklearn.metrics import confusion_matrix, ConfusionMatrixDisplay\n",
        "import warnings\n",
        "warnings.filterwarnings(\"ignore\")"
      ],
      "execution_count": null,
      "outputs": []
    },
    {
      "cell_type": "code",
      "metadata": {
        "id": "5S1WZGesc3pz"
      },
      "source": [
        "#from google.colab import drive\n",
        "#drive.mount('/content/drive')"
      ],
      "execution_count": null,
      "outputs": []
    },
    {
      "cell_type": "markdown",
      "metadata": {
        "_uuid": "9a4ff5590a6f152dc1bec5aeca79aef10218f7de",
        "id": "kxIsxJ-7cv-P"
      },
      "source": [
        "### Parameters"
      ]
    },
    {
      "cell_type": "code",
      "metadata": {
        "_uuid": "deee49df5ca1c4413f71677939e26aa1ff784e44",
        "scrolled": true,
        "execution": {
          "iopub.status.busy": "2021-09-30T19:34:49.339634Z",
          "iopub.execute_input": "2021-09-30T19:34:49.339837Z",
          "iopub.status.idle": "2021-09-30T19:34:49.346685Z",
          "shell.execute_reply.started": "2021-09-30T19:34:49.339813Z",
          "shell.execute_reply": "2021-09-30T19:34:49.346054Z"
        },
        "trusted": true,
        "id": "p6DA-wUHcv-R"
      },
      "source": [
        "embed_size = 300 # how big is each word vector\n",
        "max_features = 100000 # how many unique words to use (i.e num rows in embedding vector)\n",
        "vocab_size = max_features\n",
        "maxlen = 70 # max number of words in a question to use"
      ],
      "execution_count": null,
      "outputs": []
    },
    {
      "cell_type": "markdown",
      "metadata": {
        "id": "K5U76nNyWG2e"
      },
      "source": [
        "#Dataset"
      ]
    },
    {
      "cell_type": "code",
      "metadata": {
        "execution": {
          "iopub.status.busy": "2021-09-30T19:34:50.783076Z",
          "iopub.execute_input": "2021-09-30T19:34:50.783622Z",
          "iopub.status.idle": "2021-09-30T19:34:50.858030Z",
          "shell.execute_reply.started": "2021-09-30T19:34:50.783582Z",
          "shell.execute_reply": "2021-09-30T19:34:50.857366Z"
        },
        "trusted": true,
        "id": "tM121Auicv-S"
      },
      "source": [
        "data_train = pd.read_csv(\"/content/training.1600000.processed.noemoticon.csv\")\n",
        "# data_train"
      ],
      "execution_count": null,
      "outputs": []
    },
    {
      "cell_type": "code",
      "metadata": {
        "execution": {
          "iopub.status.busy": "2021-09-30T19:35:14.091669Z",
          "iopub.execute_input": "2021-09-30T19:35:14.091937Z",
          "iopub.status.idle": "2021-09-30T19:35:14.133030Z",
          "shell.execute_reply.started": "2021-09-30T19:35:14.091910Z",
          "shell.execute_reply": "2021-09-30T19:35:14.132312Z"
        },
        "trusted": true,
        "id": "IJ_tS9Xkcv-w"
      },
      "source": [
        "data_test = pd.read_csv(\"/content/testdata.manual.2009.06.14.csv\")\n",
        "# data_test.head()"
      ],
      "execution_count": null,
      "outputs": []
    },
    {
      "cell_type": "markdown",
      "metadata": {
        "id": "W8slpbbLcv-Y"
      },
      "source": [
        "## Finding the Length"
      ]
    },
    {
      "cell_type": "code",
      "metadata": {
        "execution": {
          "iopub.status.busy": "2021-09-30T19:34:55.033142Z",
          "iopub.execute_input": "2021-09-30T19:34:55.033692Z",
          "iopub.status.idle": "2021-09-30T19:34:55.059948Z",
          "shell.execute_reply.started": "2021-09-30T19:34:55.033653Z",
          "shell.execute_reply": "2021-09-30T19:34:55.059282Z"
        },
        "trusted": true,
        "id": "PzqiMNcCcv-a"
      },
      "source": [
        "data_train['length'] = data_train['Utterance'].apply(lambda x: len(str(x).split()))\n",
        "# data_train"
      ],
      "execution_count": null,
      "outputs": []
    },
    {
      "cell_type": "code",
      "metadata": {
        "id": "FNCKGUWbPj1q"
      },
      "source": [
        "data_test['length'] = data_test['Utterance'].apply(lambda x: len(str(x).split()))\n",
        "# data_test"
      ],
      "execution_count": null,
      "outputs": []
    },
    {
      "cell_type": "code",
      "metadata": {
        "id": "26VjwbboWy2l"
      },
      "source": [
        "# def delete_row(df):\n",
        "#   x = \"Emotion\"\n",
        "#   df.drop(df.loc[df[x]==\"neutral\"].index, inplace=True)\n",
        "#   return df \n",
        "\n",
        "\n",
        "# data_train = delete_row(data_train)\n",
        "# data_test = delete_row(data_test)"
      ],
      "execution_count": null,
      "outputs": []
    },
    {
      "cell_type": "markdown",
      "metadata": {
        "id": "Wr1wXlzTcv-e"
      },
      "source": [
        "##Text Preprocessing"
      ]
    },
    {
      "cell_type": "code",
      "metadata": {
        "_uuid": "abeab4c80d6829cf2eae706bfa7929e2871af81f",
        "scrolled": true,
        "execution": {
          "iopub.status.busy": "2021-09-30T19:35:04.887097Z",
          "iopub.execute_input": "2021-09-30T19:35:04.887365Z",
          "iopub.status.idle": "2021-09-30T19:35:04.893353Z",
          "shell.execute_reply.started": "2021-09-30T19:35:04.887338Z",
          "shell.execute_reply": "2021-09-30T19:35:04.892628Z"
        },
        "trusted": true,
        "id": "sBFSp7-Rcv-s"
      },
      "source": [
        "def remove_punct(text):\n",
        "    text  = \"\".join([char for char in text if char not in string.punctuation])\n",
        "    text = re.sub('[0-9]+', '', text)\n",
        "    return text\n",
        "\n",
        "def clean_text(x):\n",
        "    pattern = r'[^a-zA-z0-9\\s]'\n",
        "    text = re.sub(pattern, '', x)\n",
        "    return x\n",
        "\n",
        "contraction_dict = {\"ain't\": \"is not\", \"aren't\": \"are not\",\"can't\": \"cannot\", \"'cause\": \"because\", \"could've\": \"could have\", \"couldn't\": \"could not\", \"didn't\": \"did not\",  \"doesn't\": \"does not\", \"don't\": \"do not\", \"hadn't\": \"had not\", \"hasn't\": \"has not\", \"haven't\": \"have not\", \"he'd\": \"he would\",\"he'll\": \"he will\", \"he's\": \"he is\", \"how'd\": \"how did\", \"how'd'y\": \"how do you\", \"how'll\": \"how will\", \"how's\": \"how is\",  \"I'd\": \"I would\", \"I'd've\": \"I would have\", \"I'll\": \"I will\", \"I'll've\": \"I will have\",\"I'm\": \"I am\",\"im\":\"i am\", \"I've\": \"I have\", \"i'd\": \"i would\", \"i'd've\": \"i would have\", \"i'll\": \"i will\",  \"i'll've\": \"i will have\",\"i'm\": \"i am\", \"i've\": \"i have\", \"isn't\": \"is not\", \"it'd\": \"it would\", \"it'd've\": \"it would have\", \"it'll\": \"it will\", \"it'll've\": \"it will have\",\"it's\": \"it is\", \"let's\": \"let us\", \"ma'am\": \"madam\", \"mayn't\": \"may not\", \"might've\": \"might have\",\"mightn't\": \"might not\",\"mightn't've\": \"might not have\", \"must've\": \"must have\", \"mustn't\": \"must not\", \"mustn't've\": \"must not have\", \"needn't\": \"need not\", \"needn't've\": \"need not have\",\"o'clock\": \"of the clock\", \"oughtn't\": \"ought not\", \"oughtn't've\": \"ought not have\", \"shan't\": \"shall not\", \"sha'n't\": \"shall not\", \"shan't've\": \"shall not have\", \"she'd\": \"she would\", \"she'd've\": \"she would have\", \"she'll\": \"she will\", \"she'll've\": \"she will have\", \"she's\": \"she is\", \"should've\": \"should have\", \"shouldn't\": \"should not\", \"shouldn't've\": \"should not have\", \"so've\": \"so have\",\"so's\": \"so as\", \"this's\": \"this is\",\"that'd\": \"that would\", \"that'd've\": \"that would have\", \"that's\": \"that is\", \"there'd\": \"there would\", \"there'd've\": \"there would have\", \"there's\": \"there is\", \"here's\": \"here is\",\"they'd\": \"they would\", \"they'd've\": \"they would have\", \"they'll\": \"they will\", \"they'll've\": \"they will have\", \"they're\": \"they are\", \"they've\": \"they have\", \"to've\": \"to have\", \"wasn't\": \"was not\", \"we'd\": \"we would\", \"we'd've\": \"we would have\", \"we'll\": \"we will\", \"we'll've\": \"we will have\", \"we're\": \"we are\", \"we've\": \"we have\", \"weren't\": \"were not\", \"what'll\": \"what will\", \"what'll've\": \"what will have\", \"what're\": \"what are\",  \"what's\": \"what is\", \"what've\": \"what have\", \"when's\": \"when is\", \"when've\": \"when have\", \"where'd\": \"where did\", \"where's\": \"where is\", \"where've\": \"where have\", \"who'll\": \"who will\", \"who'll've\": \"who will have\", \"who's\": \"who is\", \"who've\": \"who have\", \"why's\": \"why is\", \"why've\": \"why have\", \"will've\": \"will have\", \"won't\": \"will not\", \"won't've\": \"will not have\", \"would've\": \"would have\", \"wouldn't\": \"would not\", \"wouldn't've\": \"would not have\", \"y'all\": \"you all\", \"y'all'd\": \"you all would\",\"y'all'd've\": \"you all would have\",\"y'all're\": \"you all are\",\"y'all've\": \"you all have\",\"you'd\": \"you would\", \"you'd've\": \"you would have\", \"you'll\": \"you will\", \"you'll've\": \"you will have\", \"you're\": \"you are\", \"you've\": \"you have\"}\n",
        "def _get_contractions(contraction_dict):\n",
        "    contraction_re = re.compile('(%s)' % '|'.join(contraction_dict.keys()))\n",
        "    return contraction_dict, contraction_re\n",
        "contractions, contractions_re = _get_contractions(contraction_dict)\n",
        "\n",
        "def replace_contractions(text):\n",
        "    def replace(match):\n",
        "        return contractions[match.group(0)]\n",
        "    return contractions_re.sub(replace, text)\n",
        "# Usage\n",
        "replace_contractions(\"i didn't feel humiliated\")\n",
        "\n",
        "def text_preprocessing(text):\n",
        "    text = replace_contractions(text)\n",
        "    # text = remove_punct(text)\n",
        "    # text = clean_text(text)\n",
        "    text = text.lower()\n",
        "    return text\n"
      ],
      "execution_count": null,
      "outputs": []
    },
    {
      "cell_type": "code",
      "metadata": {
        "id": "KNClRWWyOd-t"
      },
      "source": [
        "data_train[\"Utterance\"] = data_train[\"Utterance\"].apply(lambda x: text_preprocessing(x))\n",
        "# data_train"
      ],
      "execution_count": null,
      "outputs": []
    },
    {
      "cell_type": "code",
      "metadata": {
        "colab": {
          "base_uri": "https://localhost:8080/",
          "height": 518
        },
        "id": "X4cEoeFJPpEt",
        "outputId": "a17552cf-487a-43a2-d8ec-661fa4aab57a"
      },
      "source": [
        "data_test[\"Utterance\"] = data_test[\"Utterance\"].apply(lambda x: text_preprocessing(x))\n",
        "data_test"
      ],
      "execution_count": null,
      "outputs": [
        {
          "output_type": "execute_result",
          "data": {
            "text/html": [
              "<div>\n",
              "<style scoped>\n",
              "    .dataframe tbody tr th:only-of-type {\n",
              "        vertical-align: middle;\n",
              "    }\n",
              "\n",
              "    .dataframe tbody tr th {\n",
              "        vertical-align: top;\n",
              "    }\n",
              "\n",
              "    .dataframe thead th {\n",
              "        text-align: right;\n",
              "    }\n",
              "</style>\n",
              "<table border=\"1\" class=\"dataframe\">\n",
              "  <thead>\n",
              "    <tr style=\"text-align: right;\">\n",
              "      <th></th>\n",
              "      <th>Sr No.</th>\n",
              "      <th>Utterance</th>\n",
              "      <th>Speaker</th>\n",
              "      <th>Emotion</th>\n",
              "      <th>Sentiment</th>\n",
              "      <th>Dialogue_ID</th>\n",
              "      <th>Utterance_ID</th>\n",
              "      <th>Season</th>\n",
              "      <th>Episode</th>\n",
              "      <th>StartTime</th>\n",
              "      <th>EndTime</th>\n",
              "      <th>length</th>\n",
              "    </tr>\n",
              "  </thead>\n",
              "  <tbody>\n",
              "    <tr>\n",
              "      <th>0</th>\n",
              "      <td>1</td>\n",
              "      <td>why do all youre coffee mugs have numbers on ...</td>\n",
              "      <td>Mark</td>\n",
              "      <td>surprise</td>\n",
              "      <td>positive</td>\n",
              "      <td>0</td>\n",
              "      <td>0</td>\n",
              "      <td>3</td>\n",
              "      <td>19</td>\n",
              "      <td>00:14:38,127</td>\n",
              "      <td>00:14:40,378</td>\n",
              "      <td>11</td>\n",
              "    </tr>\n",
              "    <tr>\n",
              "      <th>1</th>\n",
              "      <td>2</td>\n",
              "      <td>oh. thats so monica can keep track. that way ...</td>\n",
              "      <td>Rachel</td>\n",
              "      <td>anger</td>\n",
              "      <td>negative</td>\n",
              "      <td>0</td>\n",
              "      <td>1</td>\n",
              "      <td>3</td>\n",
              "      <td>19</td>\n",
              "      <td>00:14:40,629</td>\n",
              "      <td>00:14:47,385</td>\n",
              "      <td>22</td>\n",
              "    </tr>\n",
              "    <tr>\n",
              "      <th>2</th>\n",
              "      <td>3</td>\n",
              "      <td>y'know what?</td>\n",
              "      <td>Rachel</td>\n",
              "      <td>neutral</td>\n",
              "      <td>neutral</td>\n",
              "      <td>0</td>\n",
              "      <td>2</td>\n",
              "      <td>3</td>\n",
              "      <td>19</td>\n",
              "      <td>00:14:56,353</td>\n",
              "      <td>00:14:57,520</td>\n",
              "      <td>2</td>\n",
              "    </tr>\n",
              "    <tr>\n",
              "      <th>3</th>\n",
              "      <td>19</td>\n",
              "      <td>come on, lydia, you can do it.</td>\n",
              "      <td>Joey</td>\n",
              "      <td>neutral</td>\n",
              "      <td>neutral</td>\n",
              "      <td>1</td>\n",
              "      <td>0</td>\n",
              "      <td>1</td>\n",
              "      <td>23</td>\n",
              "      <td>0:10:44,769</td>\n",
              "      <td>0:10:46,146</td>\n",
              "      <td>7</td>\n",
              "    </tr>\n",
              "    <tr>\n",
              "      <th>4</th>\n",
              "      <td>20</td>\n",
              "      <td>push!</td>\n",
              "      <td>Joey</td>\n",
              "      <td>joy</td>\n",
              "      <td>positive</td>\n",
              "      <td>1</td>\n",
              "      <td>1</td>\n",
              "      <td>1</td>\n",
              "      <td>23</td>\n",
              "      <td>0:10:46,146</td>\n",
              "      <td>0:10:46,833</td>\n",
              "      <td>1</td>\n",
              "    </tr>\n",
              "    <tr>\n",
              "      <th>...</th>\n",
              "      <td>...</td>\n",
              "      <td>...</td>\n",
              "      <td>...</td>\n",
              "      <td>...</td>\n",
              "      <td>...</td>\n",
              "      <td>...</td>\n",
              "      <td>...</td>\n",
              "      <td>...</td>\n",
              "      <td>...</td>\n",
              "      <td>...</td>\n",
              "      <td>...</td>\n",
              "      <td>...</td>\n",
              "    </tr>\n",
              "    <tr>\n",
              "      <th>2605</th>\n",
              "      <td>2760</td>\n",
              "      <td>yeah, i mean, come on ross, no one will even n...</td>\n",
              "      <td>Rachel</td>\n",
              "      <td>neutral</td>\n",
              "      <td>neutral</td>\n",
              "      <td>279</td>\n",
              "      <td>11</td>\n",
              "      <td>6</td>\n",
              "      <td>4</td>\n",
              "      <td>00:14:35,457</td>\n",
              "      <td>00:14:40,211</td>\n",
              "      <td>18</td>\n",
              "    </tr>\n",
              "    <tr>\n",
              "      <th>2606</th>\n",
              "      <td>2761</td>\n",
              "      <td>they’re not listening too me?</td>\n",
              "      <td>Ross</td>\n",
              "      <td>surprise</td>\n",
              "      <td>negative</td>\n",
              "      <td>279</td>\n",
              "      <td>12</td>\n",
              "      <td>6</td>\n",
              "      <td>4</td>\n",
              "      <td>00:14:42,256</td>\n",
              "      <td>00:14:43,840</td>\n",
              "      <td>5</td>\n",
              "    </tr>\n",
              "    <tr>\n",
              "      <th>2607</th>\n",
              "      <td>2762</td>\n",
              "      <td>of course they’re listening to you! everybody ...</td>\n",
              "      <td>Rachel</td>\n",
              "      <td>neutral</td>\n",
              "      <td>neutral</td>\n",
              "      <td>279</td>\n",
              "      <td>13</td>\n",
              "      <td>6</td>\n",
              "      <td>4</td>\n",
              "      <td>00:14:44,008</td>\n",
              "      <td>00:14:48,511</td>\n",
              "      <td>10</td>\n",
              "    </tr>\n",
              "    <tr>\n",
              "      <th>2608</th>\n",
              "      <td>2763</td>\n",
              "      <td>monica you really think i should try this phas...</td>\n",
              "      <td>Ross</td>\n",
              "      <td>neutral</td>\n",
              "      <td>neutral</td>\n",
              "      <td>279</td>\n",
              "      <td>14</td>\n",
              "      <td>6</td>\n",
              "      <td>4</td>\n",
              "      <td>00:14:48,138</td>\n",
              "      <td>00:14:52,390</td>\n",
              "      <td>11</td>\n",
              "    </tr>\n",
              "    <tr>\n",
              "      <th>2609</th>\n",
              "      <td>2764</td>\n",
              "      <td>i think you look fine.</td>\n",
              "      <td>Monica</td>\n",
              "      <td>neutral</td>\n",
              "      <td>neutral</td>\n",
              "      <td>279</td>\n",
              "      <td>15</td>\n",
              "      <td>6</td>\n",
              "      <td>4</td>\n",
              "      <td>00:14:52,558</td>\n",
              "      <td>00:14:54,183</td>\n",
              "      <td>5</td>\n",
              "    </tr>\n",
              "  </tbody>\n",
              "</table>\n",
              "<p>2610 rows × 12 columns</p>\n",
              "</div>"
            ],
            "text/plain": [
              "      Sr No.  ... length\n",
              "0          1  ...     11\n",
              "1          2  ...     22\n",
              "2          3  ...      2\n",
              "3         19  ...      7\n",
              "4         20  ...      1\n",
              "...      ...  ...    ...\n",
              "2605    2760  ...     18\n",
              "2606    2761  ...      5\n",
              "2607    2762  ...     10\n",
              "2608    2763  ...     11\n",
              "2609    2764  ...      5\n",
              "\n",
              "[2610 rows x 12 columns]"
            ]
          },
          "metadata": {},
          "execution_count": 45
        }
      ]
    },
    {
      "cell_type": "code",
      "metadata": {
        "trusted": true,
        "id": "2HesT_Kbcv-v"
      },
      "source": [
        "Labels = data_train['Emotion'].unique()"
      ],
      "execution_count": null,
      "outputs": []
    },
    {
      "cell_type": "code",
      "metadata": {
        "colab": {
          "base_uri": "https://localhost:8080/"
        },
        "id": "HTxQzR09Ynjm",
        "outputId": "cabf42f6-e014-4910-c309-564ba565d533"
      },
      "source": [
        "def count_(df,x):\n",
        "  ans = df.Emotion.value_counts()[x]\n",
        "  return ans\n",
        "\n",
        "# Labels = ['neutral', 'surprise', 'fear', 'sadness', 'joy', 'disgust','anger']\n",
        "for x in Labels:\n",
        "  cnt = count_(data_train,x)\n",
        "  print(str(x) + \" : \" + str(cnt))"
      ],
      "execution_count": null,
      "outputs": [
        {
          "output_type": "stream",
          "name": "stdout",
          "text": [
            "neutral : 4710\n",
            "surprise : 1205\n",
            "fear : 268\n",
            "sadness : 683\n",
            "joy : 1743\n",
            "disgust : 271\n",
            "anger : 1109\n"
          ]
        }
      ]
    },
    {
      "cell_type": "code",
      "metadata": {
        "_uuid": "63cb21525251b060aeb309e7be4b48772f8720f5",
        "scrolled": true,
        "execution": {
          "iopub.status.busy": "2021-09-30T18:41:47.206736Z",
          "iopub.execute_input": "2021-09-30T18:41:47.207403Z",
          "iopub.status.idle": "2021-09-30T18:41:47.211827Z",
          "shell.execute_reply.started": "2021-09-30T18:41:47.207368Z",
          "shell.execute_reply": "2021-09-30T18:41:47.211098Z"
        },
        "trusted": true,
        "id": "kfW9kVldcv-x",
        "colab": {
          "base_uri": "https://localhost:8080/"
        },
        "outputId": "7a40e8d3-7875-41cd-e4e4-cc2f7b4892aa"
      },
      "source": [
        "X_train = data_train[\"Utterance\"]\n",
        "Y_train = data_train[\"Emotion\"]\n",
        "\n",
        "X_test = data_test[\"Utterance\"]\n",
        "Y_test = data_test[\"Emotion\"]\n",
        "\n",
        "print(\"Train shape : \",X_train.shape)\n",
        "print(\"Test shape : \",X_test.shape)"
      ],
      "execution_count": null,
      "outputs": [
        {
          "output_type": "stream",
          "name": "stdout",
          "text": [
            "Train shape :  (9989,)\n",
            "Test shape :  (2610,)\n"
          ]
        }
      ]
    },
    {
      "cell_type": "markdown",
      "metadata": {
        "id": "odTQO9SPWqsC"
      },
      "source": [
        "## Padding Dataset\n",
        "  Maximum Length = 70"
      ]
    },
    {
      "cell_type": "code",
      "metadata": {
        "execution": {
          "iopub.status.busy": "2021-09-30T19:35:17.086561Z",
          "iopub.execute_input": "2021-09-30T19:35:17.086814Z",
          "iopub.status.idle": "2021-09-30T19:35:18.020017Z",
          "shell.execute_reply.started": "2021-09-30T19:35:17.086789Z",
          "shell.execute_reply": "2021-09-30T19:35:18.019226Z"
        },
        "trusted": true,
        "id": "v-5r2dxDcv-y"
      },
      "source": [
        "## Tokenize the sentences\n",
        "tokenizer = Tokenizer(num_words=max_features)\n",
        "tokenizer.fit_on_texts(list(X_train))\n",
        "train_X = tokenizer.texts_to_sequences(X_train)\n",
        "test_X = tokenizer.texts_to_sequences(X_test)\n",
        "\n",
        "## Pad the sentences\n",
        "train_X = pad_sequences(train_X, maxlen=maxlen, truncating='post', padding='post')\n",
        "test_X = pad_sequences(test_X, maxlen=maxlen, truncating='post', padding='post')"
      ],
      "execution_count": null,
      "outputs": []
    },
    {
      "cell_type": "code",
      "metadata": {
        "colab": {
          "base_uri": "https://localhost:8080/"
        },
        "id": "jtBsO24DKTtt",
        "outputId": "64887afd-2a71-4ce9-aa51-27d545517984"
      },
      "source": [
        "train_X"
      ],
      "execution_count": null,
      "outputs": [
        {
          "output_type": "execute_result",
          "data": {
            "text/plain": [
              "array([[417,   1,  33, ...,   0,   0,   0],\n",
              "       [  2, 862, 100, ...,   0,   0,   0],\n",
              "       [ 10,   1,  64, ...,   0,   0,   0],\n",
              "       ...,\n",
              "       [  2,  87,  27, ...,   0,   0,   0],\n",
              "       [ 20,   0,   0, ...,   0,   0,   0],\n",
              "       [ 10,  33,   5, ...,   0,   0,   0]], dtype=int32)"
            ]
          },
          "metadata": {},
          "execution_count": 50
        }
      ]
    },
    {
      "cell_type": "code",
      "metadata": {
        "execution": {
          "iopub.status.busy": "2021-09-30T19:35:19.348318Z",
          "iopub.execute_input": "2021-09-30T19:35:19.350469Z",
          "iopub.status.idle": "2021-09-30T19:35:19.361761Z",
          "shell.execute_reply.started": "2021-09-30T19:35:19.350408Z",
          "shell.execute_reply": "2021-09-30T19:35:19.360985Z"
        },
        "trusted": true,
        "id": "cwyGgtKTcv-y",
        "colab": {
          "base_uri": "https://localhost:8080/"
        },
        "outputId": "4ceb3ad1-a4ed-42c0-e188-3897676245c8"
      },
      "source": [
        "from sklearn.preprocessing import LabelEncoder\n",
        "le = LabelEncoder()\n",
        "train_y = le.fit_transform(Y_train.values)\n",
        "test_y = le.transform(Y_test.values)\n",
        "le.classes_"
      ],
      "execution_count": null,
      "outputs": [
        {
          "output_type": "execute_result",
          "data": {
            "text/plain": [
              "array(['anger', 'disgust', 'fear', 'joy', 'neutral', 'sadness',\n",
              "       'surprise'], dtype=object)"
            ]
          },
          "metadata": {},
          "execution_count": 51
        }
      ]
    },
    {
      "cell_type": "markdown",
      "metadata": {
        "id": "Auu4EnADBtux"
      },
      "source": [
        "# Word Emebedding\n",
        "We use the glove word embeddings"
      ]
    },
    {
      "cell_type": "markdown",
      "metadata": {
        "_uuid": "e5c51a8329d569d13b9f0369ebb98ca8e2e55440",
        "id": "KGG7Y14pcv-z"
      },
      "source": [
        "## Load Embeddings\n"
      ]
    },
    {
      "cell_type": "code",
      "metadata": {
        "execution": {
          "iopub.status.busy": "2021-09-30T19:35:22.346394Z",
          "iopub.execute_input": "2021-09-30T19:35:22.346867Z",
          "iopub.status.idle": "2021-09-30T19:35:22.354466Z",
          "shell.execute_reply.started": "2021-09-30T19:35:22.346831Z",
          "shell.execute_reply": "2021-09-30T19:35:22.353778Z"
        },
        "trusted": true,
        "id": "sh2aItIxcv-z",
        "colab": {
          "base_uri": "https://localhost:8080/"
        },
        "outputId": "2756dee9-54b5-49a2-9ca5-8ea67f39c614"
      },
      "source": [
        "def load_glove(word_index):\n",
        "    EMBEDDING_FILE = \"/content/glove.6B.300d.txt\"\n",
        "    def get_coefs(word,*arr): return word, np.asarray(arr, dtype='float32')[:300]\n",
        "    embeddings_index = dict(get_coefs(*o.split(\" \")) for o in open(EMBEDDING_FILE))\n",
        "    \n",
        "    all_embs = np.stack(embeddings_index.values())\n",
        "    emb_mean,emb_std = -0.005838499,0.48782197\n",
        "    embed_size = all_embs.shape[1]\n",
        "\n",
        "    nb_words = min(max_features, len(word_index)+1)\n",
        "    embedding_matrix = np.random.normal(emb_mean, emb_std, (nb_words, embed_size))\n",
        "    for word, i in word_index.items():\n",
        "        if i >= max_features: continue\n",
        "        embedding_vector = embeddings_index.get(word)\n",
        "        if embedding_vector is not None: \n",
        "            embedding_matrix[i] = embedding_vector\n",
        "        else:\n",
        "            embedding_vector = embeddings_index.get(word.capitalize())\n",
        "            if embedding_vector is not None: \n",
        "                embedding_matrix[i] = embedding_vector\n",
        "    return embedding_matrix\n",
        "embedding_matrix = load_glove(tokenizer.word_index)\n",
        "print('Shape of word embedding:',np.shape(embedding_matrix))"
      ],
      "execution_count": null,
      "outputs": [
        {
          "output_type": "stream",
          "name": "stdout",
          "text": [
            "Shape of word embedding: (5934, 300)\n"
          ]
        }
      ]
    },
    {
      "cell_type": "code",
      "metadata": {
        "id": "dCFnrjkZDG7e"
      },
      "source": [
        "# model = Sequential()\n",
        "\n",
        "# model.add(Embedding(max_features, embedding_dims, input_length=max_text_length))\n",
        "# model.add(Dropout(0.2))\n",
        "\n",
        "# model.add(Conv1D(filters=num_filters_1, kernel_size=filter_size, padding='valid', activation='relu', strides=1))\n",
        "# model.add(GlobalMaxPooling1D())\n",
        "\n",
        "# model.add(Dense(num_filters_2))\n",
        "# model.add(Dropout(0.2))\n",
        "# model.add(Activation('relu'))\n",
        "\n",
        "# model.add(Dense(14))\n",
        "# model.add(Activation('sigmoid'))"
      ],
      "execution_count": null,
      "outputs": []
    },
    {
      "cell_type": "markdown",
      "metadata": {
        "_uuid": "0a78496e4d88d8fb351cdf26d02f1554821ed445",
        "id": "MWIIi8LMcv-2"
      },
      "source": [
        "# Convolutional Neural Network (CNN)"
      ]
    },
    {
      "cell_type": "code",
      "metadata": {
        "execution": {
          "iopub.status.busy": "2021-09-30T19:46:31.935651Z",
          "iopub.execute_input": "2021-09-30T19:46:31.936451Z",
          "iopub.status.idle": "2021-09-30T19:46:31.945967Z",
          "shell.execute_reply.started": "2021-09-30T19:46:31.936392Z",
          "shell.execute_reply": "2021-09-30T19:46:31.945133Z"
        },
        "trusted": true,
        "id": "GJqxJVLicv-2"
      },
      "source": [
        "class CNN(nn.Module):\n",
        "    \n",
        "    def __init__(self,num_filters,filter_sizes,n_classes):\n",
        "        super(CNN, self).__init__()\n",
        "\n",
        "        #load pretrained embedding in embedding layer.\n",
        "        self.embedding = nn.Embedding(max_features, embed_size)\n",
        "        self.embedding.weight = nn.Parameter(torch.tensor(embedding_matrix, dtype=torch.float32))\n",
        "        self.embedding.weight.requires_grad = False\n",
        "        self.dropout = nn.Dropout(0.1)\n",
        "        #Convolutional Layers with different window size kernels\n",
        "\n",
        "        # torch.nn.Conv2d(in_channels, out_channels, kernel_size, stride=1, padding=0, dilation=1, groups=1, bias=True, padding_mode='zeros')\n",
        "        #convolutional layer\n",
        "        self.convs1 = nn.ModuleList([nn.Conv2d(1, num_filters, (K, embed_size)) for K in filter_sizes])\n",
        "        #Dropout layer\n",
        "        self.dropout = nn.Dropout(0.1)\n",
        "\n",
        "        #convolutional layer\n",
        "        self.convs1 = nn.ModuleList([nn.Conv2d(1, num_filters, (K, embed_size)) for K in filter_sizes])\n",
        "        #Dropout layer\n",
        "        self.dropout = nn.Dropout(0.1)\n",
        "\n",
        "        #convolutional layer\n",
        "        self.convs1 = nn.ModuleList([nn.Conv2d(1, num_filters, (K, embed_size)) for K in filter_sizes])\n",
        "        #Dropout layer\n",
        "        self.dropout = nn.Dropout(0.1)\n",
        "        \n",
        "        #FC layer\n",
        "        self.fc1 = nn.Linear(len(filter_sizes)*num_filters, n_classes)\n",
        "\n",
        "    def forward(self, x):\n",
        "        x = self.embedding(x) \n",
        "        x = x.unsqueeze(1)  \n",
        "        x = [F.relu(conv(x)).squeeze(3) for conv in self.convs1] \n",
        "        x = [F.max_pool1d(i, i.size(2)).squeeze(2) for i in x]  \n",
        "        x = torch.cat(x, 1)\n",
        "        x = self.dropout(x)  \n",
        "        logit = self.fc1(x)\n",
        "        return logit"
      ],
      "execution_count": null,
      "outputs": []
    },
    {
      "cell_type": "code",
      "metadata": {
        "id": "L91cCh7JYGU1"
      },
      "source": [
        "n_epochs = 30\n",
        "filter_sizes = [3,3]\n",
        "num_filters = 132\n",
        "n_classes = len(le.classes_)\n",
        "batch_size = 50"
      ],
      "execution_count": null,
      "outputs": []
    },
    {
      "cell_type": "code",
      "metadata": {
        "colab": {
          "base_uri": "https://localhost:8080/"
        },
        "id": "HJ_ETI9JysUE",
        "outputId": "455b30ec-7464-4b91-e5ab-e35214cbdff6"
      },
      "source": [
        "# Device configuration\n",
        "device = torch.device('cuda' if torch.cuda.is_available() else 'cpu')\n",
        "\n",
        "model_cnn = CNN(num_filters,filter_sizes,n_classes).to(device)\n",
        "loss_fn = nn.CrossEntropyLoss(reduction='mean')\n",
        "optimizer = torch.optim.Adam(filter(lambda p: p.requires_grad, model_cnn.parameters()), lr=0.0001)\n",
        "\n",
        "# Load train and test in CUDA or CPU Memory\n",
        "x_train = torch.tensor(train_X, dtype=torch.long).to(device)\n",
        "y_train = torch.tensor(train_y, dtype=torch.long).to(device)\n",
        "x_cv = torch.tensor(test_X, dtype=torch.long).to(device)\n",
        "y_cv = torch.tensor(test_y, dtype=torch.long).to(device)\n",
        "\n",
        "# Create Torch datasets\n",
        "train = torch.utils.data.TensorDataset(x_train, y_train)\n",
        "valid = torch.utils.data.TensorDataset(x_cv, y_cv)\n",
        "\n",
        "# Create Data Loaders\n",
        "train_loader = torch.utils.data.DataLoader(train, batch_size=batch_size, shuffle=False)\n",
        "valid_loader = torch.utils.data.DataLoader(valid, batch_size=batch_size, shuffle=False)\n",
        "\n",
        "cnn_train_loss = []\n",
        "cnn_valid_loss = []\n",
        "cnn_train_acc_list, cnn_test_acc_list, cnn_prec_list, cnn_recall_list, cnn_f1_list = [],[],[],[],[]\n",
        "\n",
        "for epoch in range(n_epochs):\n",
        "    start_time = time.time()\n",
        "    # Set model to train configuration\n",
        "    model_cnn.train()\n",
        "    avg_loss = 0.  \n",
        "    train_preds = np.zeros((len(x_train),len(le.classes_)))\n",
        "    for i, (x_batch, y_batch) in enumerate(train_loader):\n",
        "        # Predict/Forward Pass\n",
        "        y_pred = model_cnn(x_batch)\n",
        "\n",
        "        # Compute loss\n",
        "        loss = loss_fn(y_pred, y_batch)\n",
        "        optimizer.zero_grad()\n",
        "        loss.backward()\n",
        "        optimizer.step()\n",
        "        train_preds[i * batch_size:(i+1) * batch_size] =F.softmax(y_pred).detach().cpu().numpy()\n",
        "        avg_loss += loss.item() / len(train_loader)\n",
        "\n",
        "    \n",
        "    y_pred_train = train_preds.argmax(axis=1)\n",
        "    train_accuracy = round(accuracy_score(y_pred_train,train_y)*100,3)\n",
        "    \n",
        "    # Set model to validation configuration -Doesn't get trained here\n",
        "    model_cnn.eval()      \n",
        "    avg_val_loss = 0.\n",
        "    val_preds = np.zeros((len(x_cv),len(le.classes_)))\n",
        "    \n",
        "    for i, (x_batch, y_batch) in enumerate(valid_loader):\n",
        "        y_pred = model_cnn(x_batch).detach()\n",
        "        avg_val_loss += loss_fn(y_pred, y_batch).item() / len(valid_loader)\n",
        "        # keep/store predictions\n",
        "        val_preds[i * batch_size:(i+1) * batch_size] =F.softmax(y_pred).cpu().numpy()\n",
        "    \n",
        "    # Determining Accuracy, Precision, Recall, F1 Score\n",
        "    y_pred = val_preds.argmax(axis=1)\n",
        "    test_accuracy = round(accuracy_score(y_pred,test_y)*100,3)\n",
        "    test_precision = round(precision_score(y_pred,test_y, average='weighted')*100,3)\n",
        "    test_recall = round(np.mean(recall_score(y_pred, test_y, average='weighted'))*100,3)\n",
        "    test_f1_score = round(f1_score(y_pred, test_y, average='weighted')*100,3)\n",
        "  \n",
        "\n",
        "    # storing accuracy,precision,recall,f1 score data into list\n",
        "    cnn_train_loss.append(avg_loss)\n",
        "    cnn_valid_loss.append(avg_val_loss)\n",
        "    cnn_train_acc_list.append(train_accuracy)\n",
        "    cnn_test_acc_list.append(test_accuracy)\n",
        "    cnn_prec_list.append(test_precision)\n",
        "    cnn_recall_list.append(test_recall)\n",
        "    cnn_f1_list.append(test_f1_score)\n",
        "    elapsed_time = time.time() - start_time\n",
        "    print('Epoch {}/{}  Train loss={:.3f}   Test loss={:.3f}   Train Accuracy={:.3f}   Test Accuracy={:.3f}   Precision={:.3f}   Recall={:.3f}   F1 Score={:.3f}   time={:.2f} s'.format(\n",
        "                epoch + 1, n_epochs, avg_loss, avg_val_loss, train_accuracy, test_accuracy, test_precision, test_recall, test_f1_score, elapsed_time))"
      ],
      "execution_count": null,
      "outputs": [
        {
          "output_type": "stream",
          "name": "stdout",
          "text": [
            "Epoch 1/30  Train loss=1.544   Test loss=1.476   Train Accuracy=46.291   Test Accuracy=48.352   Precision=99.775   Recall=48.352   F1 Score=64.938   time=1.72 s\n",
            "Epoch 2/30  Train loss=1.476   Test loss=1.445   Train Accuracy=47.903   Test Accuracy=49.157   Precision=98.533   Recall=49.157   F1 Score=64.828   time=1.56 s\n",
            "Epoch 3/30  Train loss=1.434   Test loss=1.421   Train Accuracy=48.924   Test Accuracy=49.962   Precision=96.577   Recall=49.962   F1 Score=64.407   time=1.57 s\n",
            "Epoch 4/30  Train loss=1.401   Test loss=1.402   Train Accuracy=49.805   Test Accuracy=50.996   Precision=93.710   Recall=50.996   F1 Score=63.932   time=1.56 s\n",
            "Epoch 5/30  Train loss=1.365   Test loss=1.385   Train Accuracy=51.066   Test Accuracy=52.184   Precision=89.884   Recall=52.184   F1 Score=63.462   time=1.56 s\n",
            "Epoch 6/30  Train loss=1.337   Test loss=1.372   Train Accuracy=52.448   Test Accuracy=52.644   Precision=86.369   Recall=52.644   F1 Score=62.862   time=1.56 s\n",
            "Epoch 7/30  Train loss=1.309   Test loss=1.362   Train Accuracy=53.609   Test Accuracy=52.414   Precision=83.177   Recall=52.414   F1 Score=61.822   time=1.54 s\n",
            "Epoch 8/30  Train loss=1.283   Test loss=1.354   Train Accuracy=54.540   Test Accuracy=52.414   Precision=81.062   Recall=52.414   F1 Score=61.300   time=1.56 s\n",
            "Epoch 9/30  Train loss=1.259   Test loss=1.348   Train Accuracy=55.151   Test Accuracy=52.644   Precision=79.713   Recall=52.644   F1 Score=61.050   time=1.58 s\n",
            "Epoch 10/30  Train loss=1.235   Test loss=1.344   Train Accuracy=55.671   Test Accuracy=52.720   Precision=78.357   Recall=52.720   F1 Score=60.659   time=1.56 s\n",
            "Epoch 11/30  Train loss=1.214   Test loss=1.340   Train Accuracy=56.572   Test Accuracy=53.065   Precision=77.510   Recall=53.065   F1 Score=60.659   time=1.56 s\n",
            "Epoch 12/30  Train loss=1.195   Test loss=1.337   Train Accuracy=57.163   Test Accuracy=52.912   Precision=75.843   Recall=52.912   F1 Score=60.126   time=1.55 s\n",
            "Epoch 13/30  Train loss=1.175   Test loss=1.334   Train Accuracy=57.784   Test Accuracy=53.372   Precision=76.025   Recall=53.372   F1 Score=60.440   time=1.57 s\n",
            "Epoch 14/30  Train loss=1.156   Test loss=1.332   Train Accuracy=58.815   Test Accuracy=53.410   Precision=74.821   Recall=53.410   F1 Score=60.164   time=1.54 s\n",
            "Epoch 15/30  Train loss=1.140   Test loss=1.330   Train Accuracy=59.315   Test Accuracy=53.180   Precision=73.273   Recall=53.180   F1 Score=59.683   time=1.56 s\n",
            "Epoch 16/30  Train loss=1.119   Test loss=1.327   Train Accuracy=60.176   Test Accuracy=53.257   Precision=73.655   Recall=53.257   F1 Score=59.842   time=1.55 s\n",
            "Epoch 17/30  Train loss=1.100   Test loss=1.327   Train Accuracy=60.777   Test Accuracy=53.218   Precision=72.694   Recall=53.218   F1 Score=59.584   time=1.57 s\n",
            "Epoch 18/30  Train loss=1.089   Test loss=1.326   Train Accuracy=61.097   Test Accuracy=53.218   Precision=72.302   Recall=53.218   F1 Score=59.463   time=1.56 s\n",
            "Epoch 19/30  Train loss=1.066   Test loss=1.325   Train Accuracy=62.268   Test Accuracy=53.410   Precision=72.277   Recall=53.410   F1 Score=59.593   time=1.55 s\n",
            "Epoch 20/30  Train loss=1.050   Test loss=1.324   Train Accuracy=63.330   Test Accuracy=53.602   Precision=72.392   Recall=53.602   F1 Score=59.765   time=1.57 s\n",
            "Epoch 21/30  Train loss=1.031   Test loss=1.326   Train Accuracy=63.690   Test Accuracy=53.180   Precision=70.058   Recall=53.180   F1 Score=58.893   time=1.55 s\n",
            "Epoch 22/30  Train loss=1.017   Test loss=1.324   Train Accuracy=64.201   Test Accuracy=53.563   Precision=70.873   Recall=53.563   F1 Score=59.295   time=1.56 s\n",
            "Epoch 23/30  Train loss=0.999   Test loss=1.325   Train Accuracy=64.981   Test Accuracy=53.487   Precision=69.666   Recall=53.487   F1 Score=58.922   time=1.57 s\n",
            "Epoch 24/30  Train loss=0.983   Test loss=1.326   Train Accuracy=65.552   Test Accuracy=53.563   Precision=70.039   Recall=53.563   F1 Score=59.038   time=1.55 s\n",
            "Epoch 25/30  Train loss=0.965   Test loss=1.326   Train Accuracy=66.393   Test Accuracy=53.372   Precision=69.346   Recall=53.372   F1 Score=58.721   time=1.58 s\n",
            "Epoch 26/30  Train loss=0.949   Test loss=1.327   Train Accuracy=67.314   Test Accuracy=53.525   Precision=69.380   Recall=53.525   F1 Score=58.849   time=1.57 s\n",
            "Epoch 27/30  Train loss=0.934   Test loss=1.329   Train Accuracy=68.015   Test Accuracy=53.793   Precision=68.828   Recall=53.793   F1 Score=58.816   time=1.55 s\n",
            "Epoch 28/30  Train loss=0.918   Test loss=1.328   Train Accuracy=69.016   Test Accuracy=53.793   Precision=68.979   Recall=53.793   F1 Score=58.837   time=1.58 s\n",
            "Epoch 29/30  Train loss=0.901   Test loss=1.331   Train Accuracy=69.526   Test Accuracy=53.525   Precision=68.454   Recall=53.525   F1 Score=58.518   time=1.55 s\n",
            "Epoch 30/30  Train loss=0.887   Test loss=1.332   Train Accuracy=70.327   Test Accuracy=53.372   Precision=67.626   Recall=53.372   F1 Score=58.178   time=1.56 s\n"
          ]
        }
      ]
    },
    {
      "cell_type": "markdown",
      "metadata": {
        "id": "99_ILn3JYDOf"
      },
      "source": [
        "## Setting Hyperparameters"
      ]
    },
    {
      "cell_type": "code",
      "metadata": {
        "colab": {
          "base_uri": "https://localhost:8080/"
        },
        "id": "8q0ogtA8R4dA",
        "outputId": "ac59e3f6-9859-4fec-9ae4-01fd68deef35"
      },
      "source": [
        "print(model_cnn)"
      ],
      "execution_count": null,
      "outputs": [
        {
          "output_type": "stream",
          "name": "stdout",
          "text": [
            "CNN(\n",
            "  (embedding): Embedding(100000, 300)\n",
            "  (dropout): Dropout(p=0.1, inplace=False)\n",
            "  (convs1): ModuleList(\n",
            "    (0): Conv2d(1, 132, kernel_size=(3, 300), stride=(1, 1))\n",
            "    (1): Conv2d(1, 132, kernel_size=(3, 300), stride=(1, 1))\n",
            "  )\n",
            "  (fc1): Linear(in_features=264, out_features=7, bias=True)\n",
            ")\n"
          ]
        }
      ]
    },
    {
      "cell_type": "markdown",
      "metadata": {
        "_uuid": "0da30e2afce23b753796f3045b44ce91a07e4303",
        "id": "tGR7WOijcv-2"
      },
      "source": [
        "##  Model Evaluation"
      ]
    },
    {
      "cell_type": "code",
      "metadata": {
        "id": "eSdFhJvrp9Nm",
        "colab": {
          "base_uri": "https://localhost:8080/"
        },
        "outputId": "b22bb194-7774-45d1-867b-07d5be8a1fa7"
      },
      "source": [
        "y_pred = val_preds.argmax(axis=1)\n",
        "test_y = le.transform(Y_test.values)\n",
        "print(classification_report(test_y,y_pred))"
      ],
      "execution_count": null,
      "outputs": [
        {
          "output_type": "stream",
          "name": "stdout",
          "text": [
            "              precision    recall  f1-score   support\n",
            "\n",
            "           0       0.37      0.17      0.23       345\n",
            "           1       0.20      0.01      0.03        68\n",
            "           2       0.38      0.06      0.10        50\n",
            "           3       0.48      0.30      0.37       402\n",
            "           4       0.58      0.84      0.68      1256\n",
            "           5       0.34      0.17      0.23       208\n",
            "           6       0.47      0.41      0.44       281\n",
            "\n",
            "    accuracy                           0.53      2610\n",
            "   macro avg       0.40      0.28      0.30      2610\n",
            "weighted avg       0.49      0.53      0.49      2610\n",
            "\n"
          ]
        }
      ]
    },
    {
      "cell_type": "markdown",
      "metadata": {
        "id": "xxKZ2cpAG0Am"
      },
      "source": [
        "# Model Visualization"
      ]
    },
    {
      "cell_type": "code",
      "metadata": {
        "colab": {
          "base_uri": "https://localhost:8080/",
          "height": 404
        },
        "id": "xxftf2FLGzZe",
        "outputId": "069a627f-f790-46f3-8d8c-95bfab502e5f"
      },
      "source": [
        "plt.plot(cnn_train_acc_list, linestyle='-', label='Train Accuracy')\n",
        "plt.plot(cnn_test_acc_list, linestyle='-', label='Test Accuracy')\n",
        "\n",
        "plt.title('Model Performance')\n",
        "plt.xlabel('Epoch')\n",
        "plt.ylabel('Accuracy')\n",
        "plt.legend(loc='bottom right',ncol=2)\n",
        "# plt.ylim(5.55,11.55)\n",
        "plt.rcParams[\"figure.figsize\"] = (10,6)\n",
        "plt.savefig('/content/drive/MyDrive/MINI/Saved Files/final_cnn_model_performance_graph.jpg')\n",
        "plt.show()"
      ],
      "execution_count": null,
      "outputs": [
        {
          "output_type": "display_data",
          "data": {
            "image/png": "[encoded data removed]",
            "text/plain": [
              "<Figure size 720x432 with 1 Axes>"
            ]
          },
          "metadata": {
            "needs_background": "light"
          }
        }
      ]
    },
    {
      "cell_type": "markdown",
      "metadata": {
        "id": "8gvAFMj-K4uO"
      },
      "source": [
        "# Loss Curve of CNN"
      ]
    },
    {
      "cell_type": "code",
      "metadata": {
        "colab": {
          "base_uri": "https://localhost:8080/",
          "height": 404
        },
        "id": "E1UxUnytLPLv",
        "outputId": "ce9e720b-0393-42f2-e6fe-8544950d6363"
      },
      "source": [
        "plt.plot(cnn_train_loss, linestyle='-', label='Train Loss')\n",
        "plt.plot(cnn_valid_loss, linestyle='-', label='Test Loss')\n",
        "\n",
        "plt.title('Loss curve')\n",
        "plt.xlabel('Epoch')\n",
        "plt.ylabel('Loss')\n",
        "plt.legend(loc='bottom right',ncol=2)\n",
        "plt.rcParams[\"figure.figsize\"] = (10,6)\n",
        "plt.savefig('/content/drive/MyDrive/MINI/Saved Files/Final_CNN_loss_curve.jpg')\n",
        "plt.show()"
      ],
      "execution_count": null,
      "outputs": [
        {
          "output_type": "display_data",
          "data": {
            "image/png": "[encoded data removed]",
            "text/plain": [
              "<Figure size 720x432 with 1 Axes>"
            ]
          },
          "metadata": {
            "needs_background": "light"
          }
        }
      ]
    },
    {
      "cell_type": "markdown",
      "metadata": {
        "id": "K0d8LExQMbLP"
      },
      "source": [
        "# Confusion Matrix"
      ]
    },
    {
      "cell_type": "code",
      "metadata": {
        "colab": {
          "base_uri": "https://localhost:8080/",
          "height": 606
        },
        "id": "iXstb_grMZCg",
        "outputId": "ca595a75-8bfc-447d-9a25-122d849e0562"
      },
      "source": [
        "y_true = [le.classes_[x] for x in test_y]\n",
        "y_pred = [le.classes_[x] for x in val_preds.argmax(axis=1)]\n",
        "\n",
        "cnn_cm = confusion_matrix(y_true, y_pred, labels=le.classes_)\n",
        "cm_display = ConfusionMatrixDisplay(cnn_cm, display_labels=le.classes_)\n",
        "fig, ax = plt.subplots(figsize=(8,8)) # adjust the size\n",
        "cm_display.plot(ax=ax,cmap='Reds',values_format='')\n",
        "plt.savefig('/content/drive/MyDrive/MINI/Saved Files/final_CNN_confusion_matrix.jpg')\n",
        "\n",
        "\n",
        "def count_(df,x):\n",
        "  ans = df.Emotion.value_counts()[x]\n",
        "  return ans\n",
        "\n",
        "# Labels = ['neutral', 'surprise', 'fear', 'sadness', 'joy', 'disgust','anger']\n",
        "print(\"Total Different Emotion count in our testing dataset:\")\n",
        "for x in Labels:\n",
        "  cnt = count_(data_test,x)\n",
        "  print(str(x) + \" : \" + str(cnt))"
      ],
      "execution_count": null,
      "outputs": [
        {
          "output_type": "stream",
          "name": "stdout",
          "text": [
            "Total Different Emotion count in our testing dataset:\n",
            "neutral : 1256\n",
            "surprise : 281\n",
            "fear : 50\n",
            "sadness : 208\n",
            "joy : 402\n",
            "disgust : 68\n",
            "anger : 345\n"
          ]
        },
        {
          "output_type": "display_data",
          "data": {
            "image/png": "[encoded data removed]",
            "text/plain": [
              "<Figure size 576x576 with 2 Axes>"
            ]
          },
          "metadata": {
            "needs_background": "light"
          }
        }
      ]
    },
    {
      "cell_type": "code",
      "metadata": {
        "id": "KKTBPFVirZ1r"
      },
      "source": [
        "def get_prec_recall_per_emotion(cm):\n",
        "    per_emotion_precision = []\n",
        "    for i in range(len(cm)):\n",
        "        count_per_emotion,accurate = 0,0\n",
        "        for j in range(len(cm)):\n",
        "            if i == j:\n",
        "                accurate = cm[j][i]\n",
        "            count_per_emotion += cm[j][i]\n",
        "        per_emotion_precision.append(round((accurate/count_per_emotion)*100,3))\n",
        "        \n",
        "    per_emotion_recall = []\n",
        "    for i in range(len(cm)):\n",
        "        count_per_emotion,accurate = 0,0\n",
        "        for j in range(len(cm)):\n",
        "            if i == j:\n",
        "                accurate = cm[i][j]\n",
        "            count_per_emotion += cm[i][j]\n",
        "        per_emotion_recall.append(round((accurate/count_per_emotion)*100,3))\n",
        "        \n",
        "    return per_emotion_precision, per_emotion_recall"
      ],
      "execution_count": null,
      "outputs": []
    },
    {
      "cell_type": "code",
      "metadata": {
        "colab": {
          "base_uri": "https://localhost:8080/",
          "height": 265
        },
        "id": "sFYtKGjfnQ3U",
        "outputId": "08d23eef-78de-40db-bb2b-72be6bbefdd0"
      },
      "source": [
        "cnn_per_prec,cnn_per_recall = get_prec_recall_per_emotion(cnn_cm)\n",
        "per_precision_list = pd.DataFrame({'CNN': cnn_per_prec})\n",
        "per_precision_list"
      ],
      "execution_count": null,
      "outputs": [
        {
          "output_type": "execute_result",
          "data": {
            "text/html": [
              "<div>\n",
              "<style scoped>\n",
              "    .dataframe tbody tr th:only-of-type {\n",
              "        vertical-align: middle;\n",
              "    }\n",
              "\n",
              "    .dataframe tbody tr th {\n",
              "        vertical-align: top;\n",
              "    }\n",
              "\n",
              "    .dataframe thead th {\n",
              "        text-align: right;\n",
              "    }\n",
              "</style>\n",
              "<table border=\"1\" class=\"dataframe\">\n",
              "  <thead>\n",
              "    <tr style=\"text-align: right;\">\n",
              "      <th></th>\n",
              "      <th>CNN</th>\n",
              "    </tr>\n",
              "  </thead>\n",
              "  <tbody>\n",
              "    <tr>\n",
              "      <th>0</th>\n",
              "      <td>36.875</td>\n",
              "    </tr>\n",
              "    <tr>\n",
              "      <th>1</th>\n",
              "      <td>20.000</td>\n",
              "    </tr>\n",
              "    <tr>\n",
              "      <th>2</th>\n",
              "      <td>37.500</td>\n",
              "    </tr>\n",
              "    <tr>\n",
              "      <th>3</th>\n",
              "      <td>47.843</td>\n",
              "    </tr>\n",
              "    <tr>\n",
              "      <th>4</th>\n",
              "      <td>57.728</td>\n",
              "    </tr>\n",
              "    <tr>\n",
              "      <th>5</th>\n",
              "      <td>34.286</td>\n",
              "    </tr>\n",
              "    <tr>\n",
              "      <th>6</th>\n",
              "      <td>46.748</td>\n",
              "    </tr>\n",
              "  </tbody>\n",
              "</table>\n",
              "</div>"
            ],
            "text/plain": [
              "      CNN\n",
              "0  36.875\n",
              "1  20.000\n",
              "2  37.500\n",
              "3  47.843\n",
              "4  57.728\n",
              "5  34.286\n",
              "6  46.748"
            ]
          },
          "metadata": {},
          "execution_count": 103
        }
      ]
    },
    {
      "cell_type": "code",
      "metadata": {
        "colab": {
          "base_uri": "https://localhost:8080/",
          "height": 265
        },
        "id": "t4ZW3cfknpdX",
        "outputId": "49e16ae1-37af-4f6d-bb7b-941041e8532c"
      },
      "source": [
        "per_recall_list = pd.DataFrame({'CNN': cnn_per_recall})\n",
        "per_recall_list"
      ],
      "execution_count": null,
      "outputs": [
        {
          "output_type": "execute_result",
          "data": {
            "text/html": [
              "<div>\n",
              "<style scoped>\n",
              "    .dataframe tbody tr th:only-of-type {\n",
              "        vertical-align: middle;\n",
              "    }\n",
              "\n",
              "    .dataframe tbody tr th {\n",
              "        vertical-align: top;\n",
              "    }\n",
              "\n",
              "    .dataframe thead th {\n",
              "        text-align: right;\n",
              "    }\n",
              "</style>\n",
              "<table border=\"1\" class=\"dataframe\">\n",
              "  <thead>\n",
              "    <tr style=\"text-align: right;\">\n",
              "      <th></th>\n",
              "      <th>CNN</th>\n",
              "    </tr>\n",
              "  </thead>\n",
              "  <tbody>\n",
              "    <tr>\n",
              "      <th>0</th>\n",
              "      <td>17.101</td>\n",
              "    </tr>\n",
              "    <tr>\n",
              "      <th>1</th>\n",
              "      <td>1.471</td>\n",
              "    </tr>\n",
              "    <tr>\n",
              "      <th>2</th>\n",
              "      <td>6.000</td>\n",
              "    </tr>\n",
              "    <tr>\n",
              "      <th>3</th>\n",
              "      <td>30.348</td>\n",
              "    </tr>\n",
              "    <tr>\n",
              "      <th>4</th>\n",
              "      <td>84.156</td>\n",
              "    </tr>\n",
              "    <tr>\n",
              "      <th>5</th>\n",
              "      <td>17.308</td>\n",
              "    </tr>\n",
              "    <tr>\n",
              "      <th>6</th>\n",
              "      <td>40.925</td>\n",
              "    </tr>\n",
              "  </tbody>\n",
              "</table>\n",
              "</div>"
            ],
            "text/plain": [
              "      CNN\n",
              "0  17.101\n",
              "1   1.471\n",
              "2   6.000\n",
              "3  30.348\n",
              "4  84.156\n",
              "5  17.308\n",
              "6  40.925"
            ]
          },
          "metadata": {},
          "execution_count": 104
        }
      ]
    }
  ]
}